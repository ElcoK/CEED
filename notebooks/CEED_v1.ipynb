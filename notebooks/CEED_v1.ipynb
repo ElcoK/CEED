{
 "cells": [
  {
   "cell_type": "code",
   "execution_count": 1,
   "id": "406faec3-3896-4ba0-961a-b07307c67a8b",
   "metadata": {},
   "outputs": [],
   "source": [
    "import os,sys\n",
    "os.environ['USE_PYGEOS'] = '0'\n",
    "import geopandas as gpd\n",
    "import shapely\n",
    "import pandas as pd\n",
    "import numpy as np\n",
    "import xarray as xr\n",
    "import dask_geopandas\n",
    "from tqdm import tqdm\n",
    "sys.path.append('c://projects//osm-flex/src') \n",
    "\n",
    "from rasterstats import point_query"
   ]
  },
  {
   "cell_type": "code",
   "execution_count": 2,
   "id": "d561fcc4-c429-4ae8-bbf1-37b3d9b57097",
   "metadata": {},
   "outputs": [],
   "source": [
    "data_path = 'c://data//CEED'\n",
    "input_data = os.path.join(data_path,'input_data')\n",
    "bucco_path = os.path.join(data_path,'coastal_bucco_exact')\n",
    "osm_path = os.path.join(data_path,'coastal_osm_exact')"
   ]
  },
  {
   "cell_type": "code",
   "execution_count": 3,
   "id": "40eba026-ec1a-4abb-aaff-d00193d33edb",
   "metadata": {},
   "outputs": [],
   "source": [
    "def raster_to_vector(xr_raster):\n",
    "    \"\"\"\n",
    "    Convert a raster to a vector representation.\n",
    "\n",
    "    Args:\n",
    "        xr_raster (xarray.DataArray): Input raster data as xarray.DataArray.\n",
    "\n",
    "    Returns:\n",
    "        gpd.GeoDataFrame: Vector representation of the input raster.\n",
    "    \"\"\"\n",
    "\n",
    "    # Convert xarray raster to pandas DataFrame\n",
    "    df = xr_raster.to_dataframe()\n",
    "\n",
    "    # Filter DataFrame to select rows where band_data > 0\n",
    "    df_1 = df.loc[df.band_data > 0].reset_index()\n",
    "\n",
    "    # Create a Shapely Point geometry column from x and y values\n",
    "    df_1['geometry'] = shapely.points(df_1.x.values, df_1.y.values)\n",
    "\n",
    "    # Remove unnecessary columns from the DataFrame\n",
    "    df_1 = df_1.drop(['x', 'y', 'band', 'spatial_ref'], axis=1)\n",
    "\n",
    "    # Calculate the resolution of the raster\n",
    "    resolution = xr_raster.x[1].values - xr_raster.x[0].values\n",
    "\n",
    "    # Buffer the Point geometries by half of the resolution with square caps\n",
    "    df_1.geometry = shapely.buffer(df_1.geometry, distance=resolution/2, cap_style='square').values\n",
    "\n",
    "    # Convert the DataFrame to a GeoDataFrame\n",
    "    return gpd.GeoDataFrame(df_1)      \n",
    "\n",
    "def zonal_stats(vector_in, raster_in):\n",
    "    \"\"\"\n",
    "    Calculate zonal statistics of a raster dataset based on a vector dataset.\n",
    "    \n",
    "    Parameters:\n",
    "    - vector_in (str): Path to the vector dataset file (in Parquet format).\n",
    "    - raster_in (str): Path to the raster dataset file (in NetCDF format).\n",
    "    \n",
    "    Returns:\n",
    "    - pandas.Series: A series containing the zonal statistics values corresponding to each centroid point in the vector dataset.\n",
    "    \"\"\"\n",
    "    \n",
    "    # Read the vector dataset from the given path\n",
    "    vector = gpd.read_parquet(vector_in)\n",
    "    \n",
    "    # Open the raster dataset using the xarray library\n",
    "    raster = xr.open_dataset(raster_in, engine=\"rasterio\")\n",
    "    \n",
    "    # Progress bar setup for obtaining values\n",
    "    tqdm.pandas(desc='obtain values')\n",
    "    \n",
    "    # Clip the raster dataset to the bounding box of the vector dataset\n",
    "    raster_clip = raster.rio.clip_box(vector.total_bounds[0], vector.total_bounds[1], vector.total_bounds[2], vector.total_bounds[3])\n",
    "    \n",
    "    # Convert the clipped raster dataset to a vector representation\n",
    "    raster_vector = raster_to_vector(raster_clip)\n",
    "    \n",
    "    # Create a dictionary mapping each index to its corresponding band data value\n",
    "    band_data_dict = dict(zip(list(raster_vector.index), raster_vector['band_data'].values))\n",
    "    \n",
    "    # Construct an STRtree from the vector geometry values\n",
    "    tree = shapely.STRtree(raster_vector.geometry.values)\n",
    "    \n",
    "    # Apply a function to calculate zonal statistics for each centroid point in the vector dataset\n",
    "    return vector.centroid.progress_apply(lambda x: band_data_dict[tree.query(x, predicate='intersects')[0]])\n",
    "\n",
    "\n",
    "def vector_point_query(x, coastal_CLC_tree, band_data_dict):\n",
    "    \"\"\"\n",
    "    Perform a point query on a vector dataset based on specific conditions.\n",
    "\n",
    "    Parameters:\n",
    "    - x (GeoDataFrame): A GeoDataFrame representing a single feature.\n",
    "    - coastal_CLC_tree (shapely.STRtree): STRtree object constructed from the coastal CLC vector geometry values.\n",
    "    - band_data_dict (dict): A dictionary mapping indices to their corresponding band data values.\n",
    "\n",
    "    Returns:\n",
    "    - int: The band data value corresponding to the point query, or -9999 if the conditions are not met.\n",
    "    \"\"\"\n",
    "\n",
    "    if x.land_use == 5:\n",
    "        try:\n",
    "            # Perform an intersection query using the centroid of the feature\n",
    "            match = coastal_CLC_tree.query(x.centroid, predicate='intersects')\n",
    "            return band_data_dict[match[0]]\n",
    "        except:\n",
    "            # Return -9999 if no intersection is found\n",
    "            return -9999\n",
    "    else:\n",
    "        # Return -9999 if the land use condition is not met\n",
    "        return -9999\n",
    "    \n",
    "def final_land_use(x):\n",
    "    \"\"\"\n",
    "    Determine the final land use based on the coastal land use and land use values of a feature.\n",
    "\n",
    "    Parameters:\n",
    "    - x (pandas.Series): A pandas Series representing a single feature.\n",
    "\n",
    "    Returns:\n",
    "    - int: The final land use value, which is either the coastal land use or the land use value of the feature.\n",
    "    \"\"\"\n",
    "\n",
    "    if x.coastal_land_use == -9999:\n",
    "        return x.land_use\n",
    "    else:\n",
    "        return x.coastal_land_use  "
   ]
  },
  {
   "cell_type": "code",
   "execution_count": 4,
   "id": "a3aef71b-7e45-453e-a19f-2091ede8ee25",
   "metadata": {},
   "outputs": [],
   "source": [
    "country_code = 'FRA'"
   ]
  },
  {
   "cell_type": "code",
   "execution_count": 5,
   "id": "94fdfc33-012c-4afe-8884-86d1937c96f7",
   "metadata": {},
   "outputs": [],
   "source": [
    "bucco_file = os.path.join(input_data,'..','coastal_bucco_exact','{}_bucco.parquet').format(country_code)\n",
    "CLC_path = os.path.join(input_data,'u2018_clc2018_v2020_20u1_raster100m','DATA','U2018_CLC2018_V2020_20u1.tif')\n",
    "coastal_CLC_path = os.path.join(input_data,'CZ_2018_DU004_3035_V010.parquet')"
   ]
  },
  {
   "cell_type": "markdown",
   "id": "55ddd276-381e-4331-883f-3ac58326718a",
   "metadata": {},
   "source": [
    "### Read Data"
   ]
  },
  {
   "cell_type": "code",
   "execution_count": 6,
   "id": "8ce915c5-086c-4310-855f-acebfa6bfedf",
   "metadata": {},
   "outputs": [],
   "source": [
    "coastal_bucco = gpd.read_parquet(bucco_file)    \n",
    "coastal_CLC = gpd.read_parquet(coastal_CLC_path)"
   ]
  },
  {
   "cell_type": "markdown",
   "id": "e8dd0952-6959-4e48-ad28-de696f825e73",
   "metadata": {},
   "source": [
    "### Find land cover information from CLC full layer"
   ]
  },
  {
   "cell_type": "code",
   "execution_count": 7,
   "id": "1cc90317-bccf-400c-871d-5fd862f9339f",
   "metadata": {},
   "outputs": [
    {
     "name": "stderr",
     "output_type": "stream",
     "text": [
      "obtain values: 100%|██████████████████████████████████████████████████████| 8038809/8038809 [03:33<00:00, 37701.26it/s]\n"
     ]
    }
   ],
   "source": [
    "%%time\n",
    "coastal_bucco['land_use'] = zonal_stats(bucco_file,CLC_path)"
   ]
  },
  {
   "cell_type": "markdown",
   "id": "65f1b358-17c6-4ec4-8880-e1df33c259c8",
   "metadata": {},
   "source": [
    "### Find additional land cover information from CLC coastal zones "
   ]
  },
  {
   "cell_type": "code",
   "execution_count": 8,
   "id": "d5126fd4-de9c-4d46-8277-030b9b06bec4",
   "metadata": {},
   "outputs": [],
   "source": [
    "coastal_CLC_tree = shapely.STRtree(coastal_CLC.geometry.values)\n",
    "band_data_dict = dict(zip(list(coastal_CLC.index), coastal_CLC['CODE_4_18'].values))"
   ]
  },
  {
   "cell_type": "code",
   "execution_count": 9,
   "id": "43026b3a-bea6-47f1-873f-32f2ea6ee6a1",
   "metadata": {},
   "outputs": [
    {
     "name": "stderr",
     "output_type": "stream",
     "text": [
      "obtain port values: 100%|██████████████████████████████████████████████████| 8038809/8038809 [15:10<00:00, 8829.70it/s]\n"
     ]
    }
   ],
   "source": [
    "coastal_bucco['centroid'] = coastal_bucco.centroid\n",
    "\n",
    "tqdm.pandas(desc='obtain port values')\n",
    "\n",
    "coastal_land_use = coastal_bucco.progress_apply(lambda x: vector_point_query(x,coastal_CLC_tree,band_data_dict),axis=1)"
   ]
  },
  {
   "cell_type": "code",
   "execution_count": 10,
   "id": "bcc8317c-b851-44ef-a01d-e1d023dfbcc8",
   "metadata": {},
   "outputs": [],
   "source": [
    "coastal_bucco['coastal_land_use'] = coastal_land_use"
   ]
  },
  {
   "cell_type": "markdown",
   "id": "eefb03ff-973f-4de3-a99c-d8a52f439556",
   "metadata": {},
   "source": [
    "### Merge into a single column"
   ]
  },
  {
   "cell_type": "code",
   "execution_count": 11,
   "id": "545436ea-59cf-4f2f-b9be-217c908a71c6",
   "metadata": {},
   "outputs": [
    {
     "name": "stderr",
     "output_type": "stream",
     "text": [
      "obtain port values: 100%|█████████████████████████████████████████████████| 8038809/8038809 [02:37<00:00, 50945.84it/s]"
     ]
    },
    {
     "name": "stdout",
     "output_type": "stream",
     "text": [
      "CPU times: total: 2min 37s\n",
      "Wall time: 2min 37s\n"
     ]
    },
    {
     "name": "stderr",
     "output_type": "stream",
     "text": [
      "\n"
     ]
    }
   ],
   "source": [
    "%%time\n",
    "coastal_bucco['use_type'] = coastal_bucco.progress_apply(lambda x: final_land_use(x),axis=1)"
   ]
  },
  {
   "cell_type": "code",
   "execution_count": 12,
   "id": "34b6420c-fe70-4103-b7e4-b3f055a2965f",
   "metadata": {},
   "outputs": [],
   "source": [
    "country_code = 'FRA'\n",
    "df = gpd.read_parquet(os.path.join(data_path,'..','CIS_EU','{}_cis.parquet').format(country_code))"
   ]
  },
  {
   "cell_type": "code",
   "execution_count": null,
   "id": "128ced18-9499-4c88-8844-9b6cfb1a4cda",
   "metadata": {},
   "outputs": [],
   "source": []
  },
  {
   "cell_type": "code",
   "execution_count": 13,
   "id": "31ff0a62-2f62-493a-a7b8-a627d4680e7d",
   "metadata": {},
   "outputs": [
    {
     "data": {
      "text/html": [
       "<div>\n",
       "<style scoped>\n",
       "    .dataframe tbody tr th:only-of-type {\n",
       "        vertical-align: middle;\n",
       "    }\n",
       "\n",
       "    .dataframe tbody tr th {\n",
       "        vertical-align: top;\n",
       "    }\n",
       "\n",
       "    .dataframe thead th {\n",
       "        text-align: right;\n",
       "    }\n",
       "</style>\n",
       "<table border=\"1\" class=\"dataframe\">\n",
       "  <thead>\n",
       "    <tr style=\"text-align: right;\">\n",
       "      <th></th>\n",
       "      <th>id</th>\n",
       "      <th>height</th>\n",
       "      <th>age</th>\n",
       "      <th>type</th>\n",
       "      <th>id_source</th>\n",
       "      <th>type_source</th>\n",
       "      <th>geometry</th>\n",
       "      <th>land_use</th>\n",
       "      <th>centroid</th>\n",
       "      <th>coastal_land_use</th>\n",
       "      <th>use_type</th>\n",
       "    </tr>\n",
       "  </thead>\n",
       "  <tbody>\n",
       "    <tr>\n",
       "      <th>0</th>\n",
       "      <td>v0.1-FRA.3.1.1.2_1-3121</td>\n",
       "      <td>2.0</td>\n",
       "      <td>NaN</td>\n",
       "      <td>None</td>\n",
       "      <td>BATIMENT0000000288524932</td>\n",
       "      <td>Indifférencié</td>\n",
       "      <td>POLYGON ((3432113.151 2875938.944, 3432116.966...</td>\n",
       "      <td>20.0</td>\n",
       "      <td>POINT (3432115.175 2875937.581)</td>\n",
       "      <td>-9999</td>\n",
       "      <td>20.0</td>\n",
       "    </tr>\n",
       "    <tr>\n",
       "      <th>1</th>\n",
       "      <td>v0.1-FRA.3.1.1.2_1-3135</td>\n",
       "      <td>4.5</td>\n",
       "      <td>1993.0</td>\n",
       "      <td>residential</td>\n",
       "      <td>BATIMENT0000000288524916</td>\n",
       "      <td>Résidentiel</td>\n",
       "      <td>POLYGON ((3431783.459 2875481.094, 3431790.522...</td>\n",
       "      <td>20.0</td>\n",
       "      <td>POINT (3431779.426 2875469.016)</td>\n",
       "      <td>-9999</td>\n",
       "      <td>20.0</td>\n",
       "    </tr>\n",
       "    <tr>\n",
       "      <th>2</th>\n",
       "      <td>v0.1-FRA.3.1.1.2_1-3136</td>\n",
       "      <td>5.3</td>\n",
       "      <td>1940.0</td>\n",
       "      <td>residential</td>\n",
       "      <td>BATIMENT0000000288524919</td>\n",
       "      <td>Résidentiel</td>\n",
       "      <td>POLYGON ((3432037.123 2875440.726, 3432032.999...</td>\n",
       "      <td>12.0</td>\n",
       "      <td>POINT (3432024.373 2875443.073)</td>\n",
       "      <td>-9999</td>\n",
       "      <td>12.0</td>\n",
       "    </tr>\n",
       "    <tr>\n",
       "      <th>3</th>\n",
       "      <td>v0.1-FRA.3.1.1.2_1-3137</td>\n",
       "      <td>5.2</td>\n",
       "      <td>NaN</td>\n",
       "      <td>None</td>\n",
       "      <td>BATIMENT0000000288524917</td>\n",
       "      <td>Indifférencié</td>\n",
       "      <td>POLYGON ((3432095.501 2875941.111, 3432094.483...</td>\n",
       "      <td>12.0</td>\n",
       "      <td>POINT (3432084.106 2875939.529)</td>\n",
       "      <td>-9999</td>\n",
       "      <td>12.0</td>\n",
       "    </tr>\n",
       "    <tr>\n",
       "      <th>4</th>\n",
       "      <td>v0.1-FRA.3.1.1.2_1-3138</td>\n",
       "      <td>4.4</td>\n",
       "      <td>NaN</td>\n",
       "      <td>None</td>\n",
       "      <td>BATIMENT0000000288524918</td>\n",
       "      <td>Indifférencié</td>\n",
       "      <td>POLYGON ((3431991.551 2875421.613, 3432002.326...</td>\n",
       "      <td>12.0</td>\n",
       "      <td>POINT (3431999.556 2875429.695)</td>\n",
       "      <td>-9999</td>\n",
       "      <td>12.0</td>\n",
       "    </tr>\n",
       "  </tbody>\n",
       "</table>\n",
       "</div>"
      ],
      "text/plain": [
       "                        id  height     age         type  \\\n",
       "0  v0.1-FRA.3.1.1.2_1-3121     2.0     NaN         None   \n",
       "1  v0.1-FRA.3.1.1.2_1-3135     4.5  1993.0  residential   \n",
       "2  v0.1-FRA.3.1.1.2_1-3136     5.3  1940.0  residential   \n",
       "3  v0.1-FRA.3.1.1.2_1-3137     5.2     NaN         None   \n",
       "4  v0.1-FRA.3.1.1.2_1-3138     4.4     NaN         None   \n",
       "\n",
       "                  id_source    type_source  \\\n",
       "0  BATIMENT0000000288524932  Indifférencié   \n",
       "1  BATIMENT0000000288524916    Résidentiel   \n",
       "2  BATIMENT0000000288524919    Résidentiel   \n",
       "3  BATIMENT0000000288524917  Indifférencié   \n",
       "4  BATIMENT0000000288524918  Indifférencié   \n",
       "\n",
       "                                            geometry  land_use  \\\n",
       "0  POLYGON ((3432113.151 2875938.944, 3432116.966...      20.0   \n",
       "1  POLYGON ((3431783.459 2875481.094, 3431790.522...      20.0   \n",
       "2  POLYGON ((3432037.123 2875440.726, 3432032.999...      12.0   \n",
       "3  POLYGON ((3432095.501 2875941.111, 3432094.483...      12.0   \n",
       "4  POLYGON ((3431991.551 2875421.613, 3432002.326...      12.0   \n",
       "\n",
       "                          centroid  coastal_land_use  use_type  \n",
       "0  POINT (3432115.175 2875937.581)             -9999      20.0  \n",
       "1  POINT (3431779.426 2875469.016)             -9999      20.0  \n",
       "2  POINT (3432024.373 2875443.073)             -9999      12.0  \n",
       "3  POINT (3432084.106 2875939.529)             -9999      12.0  \n",
       "4  POINT (3431999.556 2875429.695)             -9999      12.0  "
      ]
     },
     "execution_count": 13,
     "metadata": {},
     "output_type": "execute_result"
    }
   ],
   "source": [
    "coastal_bucco.head()"
   ]
  },
  {
   "cell_type": "code",
   "execution_count": null,
   "id": "ba5f41d9-f4b2-4b5b-8bec-7dd1da22528f",
   "metadata": {},
   "outputs": [],
   "source": []
  }
 ],
 "metadata": {
  "kernelspec": {
   "display_name": "Python 3 (ipykernel)",
   "language": "python",
   "name": "python3"
  },
  "language_info": {
   "codemirror_mode": {
    "name": "ipython",
    "version": 3
   },
   "file_extension": ".py",
   "mimetype": "text/x-python",
   "name": "python",
   "nbconvert_exporter": "python",
   "pygments_lexer": "ipython3",
   "version": "3.10.9"
  }
 },
 "nbformat": 4,
 "nbformat_minor": 5
}

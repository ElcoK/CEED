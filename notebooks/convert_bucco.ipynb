{
 "cells": [
  {
   "cell_type": "code",
   "execution_count": 1,
   "id": "c8ef13c5-6ba8-4b19-b14a-33eaa374df0c",
   "metadata": {},
   "outputs": [],
   "source": [
    "import os\n",
    "from tqdm import tqdm\n",
    "os.environ['USE_PYGEOS'] = '0'\n",
    "\n",
    "import geopandas as gpd"
   ]
  },
  {
   "cell_type": "code",
   "execution_count": 2,
   "id": "f2b72075-14b0-4a00-94c8-4e361712ea28",
   "metadata": {},
   "outputs": [],
   "source": [
    "data_path = 'c://data//CEED'\n",
    "input_data = os.path.join(data_path,'input_data')\n",
    "bucco_path = os.path.join(data_path,'..','EUBUCCO')"
   ]
  },
  {
   "cell_type": "code",
   "execution_count": 3,
   "id": "d7fb054d-a5d9-43eb-8132-af76908c452d",
   "metadata": {},
   "outputs": [],
   "source": [
    "country_codes = [x.split('.')[0][-3:] for x in os.listdir(bucco_path) if x.endswith('.gpkg')]"
   ]
  },
  {
   "cell_type": "code",
   "execution_count": 4,
   "id": "0f18f71d-1cb2-4fae-8514-41e5ad5170c9",
   "metadata": {},
   "outputs": [],
   "source": [
    "country_codes = ['ITA','NLD','FRA','ESP','DNK']"
   ]
  },
  {
   "cell_type": "code",
   "execution_count": 5,
   "id": "c5a83cb0-8ade-40d2-8b55-4803b87fbb05",
   "metadata": {},
   "outputs": [
    {
     "name": "stderr",
     "output_type": "stream",
     "text": [
      "  0%|                                                                                            | 0/5 [00:00<?, ?it/s]"
     ]
    },
    {
     "name": "stdout",
     "output_type": "stream",
     "text": [
      "ITA\n",
      "BUCCO loaded\n"
     ]
    },
    {
     "name": "stderr",
     "output_type": "stream",
     "text": [
      " 20%|███████████████▌                                                              | 1/5 [1:20:16<5:21:06, 4816.68s/it]"
     ]
    },
    {
     "name": "stdout",
     "output_type": "stream",
     "text": [
      "NLD\n",
      "BUCCO loaded\n"
     ]
    },
    {
     "name": "stderr",
     "output_type": "stream",
     "text": [
      " 40%|███████████████████████████████▏                                              | 2/5 [2:17:56<3:20:55, 4018.48s/it]"
     ]
    },
    {
     "name": "stdout",
     "output_type": "stream",
     "text": [
      "FRA\n",
      "BUCCO loaded\n"
     ]
    },
    {
     "name": "stderr",
     "output_type": "stream",
     "text": [
      " 60%|██████████████████████████████████████████████▊                               | 3/5 [6:23:07<4:56:42, 8901.14s/it]"
     ]
    },
    {
     "name": "stdout",
     "output_type": "stream",
     "text": [
      "ESP\n",
      "BUCCO loaded\n"
     ]
    },
    {
     "name": "stderr",
     "output_type": "stream",
     "text": [
      " 80%|██████████████████████████████████████████████████████████████▍               | 4/5 [7:35:34<1:58:22, 7102.93s/it]"
     ]
    },
    {
     "name": "stdout",
     "output_type": "stream",
     "text": [
      "DNK\n",
      "BUCCO loaded\n"
     ]
    },
    {
     "name": "stderr",
     "output_type": "stream",
     "text": [
      "100%|████████████████████████████████████████████████████████████████████████████████| 5/5 [7:52:02<00:00, 5664.49s/it]\n"
     ]
    }
   ],
   "source": [
    "for country_code in tqdm(country_codes,total=len(country_codes)):\n",
    "    print(country_code)\n",
    "    file_path = os.path.join(bucco_path,'v0_1-{}.gpkg'.format(country_code))\n",
    "    out_path = os.path.join(bucco_path,'{}_bucco.parquet').format(country_code)\n",
    "    if os.path.exists(out_path):\n",
    "        continue\n",
    "    else:\n",
    "        bucco = gpd.read_file(file_path)\n",
    "        print('BUCCO loaded')\n",
    "        bucco.to_parquet(out_path)"
   ]
  },
  {
   "cell_type": "code",
   "execution_count": null,
   "id": "cdfa4ebf-36a9-4aba-a3a9-0a9c7be5065c",
   "metadata": {},
   "outputs": [],
   "source": []
  }
 ],
 "metadata": {
  "kernelspec": {
   "display_name": "Python 3 (ipykernel)",
   "language": "python",
   "name": "python3"
  },
  "language_info": {
   "codemirror_mode": {
    "name": "ipython",
    "version": 3
   },
   "file_extension": ".py",
   "mimetype": "text/x-python",
   "name": "python",
   "nbconvert_exporter": "python",
   "pygments_lexer": "ipython3",
   "version": "3.10.9"
  }
 },
 "nbformat": 4,
 "nbformat_minor": 5
}

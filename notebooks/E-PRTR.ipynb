{
 "cells": [
  {
   "cell_type": "code",
   "execution_count": 2,
   "id": "583a08fe-4e41-4978-b3e6-52a89497ddd9",
   "metadata": {},
   "outputs": [],
   "source": [
    "import os,sys\n",
    "os.environ['USE_PYGEOS'] = '0'\n",
    "import geopandas as gpd\n",
    "import shapely\n",
    "import pandas as pd\n",
    "import numpy as np\n",
    "import xarray as xr\n",
    "from tqdm import tqdm"
   ]
  },
  {
   "cell_type": "code",
   "execution_count": 3,
   "id": "83e9b96d-d8e9-4927-b43d-fe6ff26135b2",
   "metadata": {},
   "outputs": [],
   "source": [
    "data_path = 'c://data//CEED'\n",
    "input_data = os.path.join(data_path,'input_data')\n",
    "osm_path = os.path.join(data_path,'..','CIS_EU')"
   ]
  },
  {
   "cell_type": "code",
   "execution_count": 25,
   "id": "6a0006c4-6f3a-49b8-a15a-8ae54aed52bc",
   "metadata": {},
   "outputs": [],
   "source": [
    "df_EPRTR = pd.read_csv(os.path.join(input_data,'F6_1_Total Information on Installations.csv'),low_memory=False)"
   ]
  },
  {
   "cell_type": "code",
   "execution_count": 26,
   "id": "9278af4c-52a7-40e9-9e8f-2d0823a88dab",
   "metadata": {},
   "outputs": [],
   "source": [
    "df_EPRTR['geometry'] = shapely.points(df_EPRTR.Longitude.values,df_EPRTR.Latitude.values)"
   ]
  },
  {
   "cell_type": "code",
   "execution_count": 27,
   "id": "591c016c-7858-40fb-b199-72c918d23549",
   "metadata": {},
   "outputs": [],
   "source": [
    "gdf_EPRTR = gpd.GeoDataFrame(df_EPRTR)"
   ]
  },
  {
   "cell_type": "code",
   "execution_count": 29,
   "id": "c184ca0a-b7f4-4dc4-9e3d-c353d335cff0",
   "metadata": {},
   "outputs": [],
   "source": [
    "gdf_EPRTR = gdf_EPRTR.groupby(['Longitude','Latitude']).last().reset_index()"
   ]
  },
  {
   "cell_type": "code",
   "execution_count": 36,
   "id": "45b25c6b-0b6b-492b-8f21-918bf9ba0a56",
   "metadata": {},
   "outputs": [
    {
     "data": {
      "text/plain": [
       "array(['Landfills, as defined in Article 2(g) of Council Directive 1999/31/EC of 26 April 1999 on the landfill of waste, receiving more than 10 tonnes of waste per day or with a total capacity exceeding 25,000 tonnes, excluding landfills of inert waste',\n",
       "       'Combustion of fuels in installations with a total rated thermal input of 50 MW or more',\n",
       "       'Temporary storage of hazardous waste not covered under point 5.4 pending any of the activities listed in points 5.1, 5.2, 5.4 and 5.6 with a total capacity exceeding 50 tonnes, excluding temporary storage, pending collection, on the site where the waste is generated',\n",
       "       'Treatment and processing, other than exclusively packaging, of the following raw materials, whether previously processed or unprocessed, intended for the production of food or feed from only vegetable raw materials with a finished product production capacity greater than 300 tonnes per day or 600 tonnes per day where the installation operates for a period of no more than 90 consecutive days in any year',\n",
       "       'Disposal or recovery of waste in waste incineration plants or in waste co-incineration plants for non-hazardous waste with a capacity exceeding 3 tonnes per hour',\n",
       "       'Refining of mineral oil and gas',\n",
       "       'Intensive rearing of poultry with more than 40,000 places for poultry',\n",
       "       'Production of inorganic chemicals: gases, such as ammonia, chlorine or hydrogen chloride, fluorine or hydrogen fluoride, carbon oxides, sulphur compounds, nitrogen oxides, hydrogen, sulphur dioxide, carbonyl chloride',\n",
       "       'Treatment and processing of milk only, the quantity of milk received being greater than 200 tonnes per day (average value on an annual basis)',\n",
       "       'Operating slaughterhouses with a carcass production capacity greater than 50 tonnes per day',\n",
       "       'Intensive rearing of pigs with more than 2,000 places for production pigs (over 30 kg)',\n",
       "       'Production of lime in kilns with a production capacity exceeding 50 tonnes per day',\n",
       "       'Disposal or recovery of waste in waste incineration plants or in waste co-incineration plants for hazardous waste with a capacity exceeding 10 tonnes per day',\n",
       "       'Processing of non-ferrous metals: production of non-ferrous crude metals from ore, concentrates or secondary raw materials by metallurgical, chemical or electrolytic processes',\n",
       "       'Disposal or recycling of animal carcases or animal waste with a treatment capacity exceeding 10 tonnes per day',\n",
       "       'Production of organic chemicals: oxygen-containing hydrocarbons such as alcohols, aldehydes, ketones, carboxylic acids, esters and mixtures of esters, acetates, ethers, peroxides and epoxy resins',\n",
       "       'Manufacture of glass including glass fibre with a melting capacity exceeding 20 tonnes per day',\n",
       "       'Production of organic chemicals: surface-active agents and surfactants',\n",
       "       'Surface treatment of metals or plastic materials using an electrolytic or chemical process where the volume of the treatment vats exceeds 30 m3',\n",
       "       'Production of organic chemicals: simple hydrocarbons (linear or cyclic, saturated or unsaturated, aliphatic or aromatic)',\n",
       "       'Recovery, or a mix of recovery and disposal, of non-hazardous waste with a capacity exceeding 75 tonnes per day involving treatment in shredders of metal waste, including waste electrical and electronic equipment and end-of-life vehicles and their components, and excluding activities covered by Directive 91/271/EEC.',\n",
       "       'Production of inorganic chemicals: salts, such as ammonium chloride, potassium chlorate, potassium carbonate, sodium carbonate, perborate, silver nitrate',\n",
       "       'Disposal or recovery of hazardous waste with a capacity exceeding 10 tonnes per day involving physico-chemical treatment',\n",
       "       'Disposal or recovery of hazardous waste with a capacity exceeding 10 tonnes per day involving biological treatment',\n",
       "       'Treatment and processing, other than exclusively packaging, of the following raw materials, whether previously processed or unprocessed, intended for the production of food or feed from only animal raw materials (other than exclusively milk) with a finished product production capacity greater than 75 tonnes per day',\n",
       "       'Production of pharmaceutical products including intermediates',\n",
       "       'Preservation of wood and wood products with chemicals with a production capacity exceeding 75 m3 per day other than exclusively treating against sapstain',\n",
       "       'Intensive rearing of pigs with more than 750 places for sows',\n",
       "       'Recovery, or a mix of recovery and disposal, of non-hazardous waste with a capacity exceeding 75 tonnes per day involving the pre-treatment of waste for incineration or co-incineration, excluding activities covered by Directive 91/271/EEC',\n",
       "       'Treatment and processing, other than exclusively packaging, of the following raw materials, whether previously processed or unprocessed, intended for the production of food or feed from animal and vegetable raw materials, both in combined and separate products, with a finished product production capacity in tonnes per day greater than 75 if A is equal to 10 or more or, [300- (22,5 ? A)] in any other case, where ?A? is the portion of animal material (in percent of weight) of the finished product production capacity',\n",
       "       'Surface treatment of substances, objects or products using organic solvents, in particular for dressing, printing, coating, degreasing, waterproofing, sizing, painting, cleaning or impregnating, with an organic solvent consumption capacity of more than 150 kg per hour or more than 200 tonnes per year',\n",
       "       'Production of organic chemicals: plastic materials (polymers, synthetic fibres and cellulose-based fibres)',\n",
       "       'Processing of non-ferrous metals: melting, including the alloyage, of non-ferrous metals, including recovered products and operation of non-ferrous metal foundries, with a melting capacity exceeding 4 tonnes per day for lead and cadmium or 20 tonnes per day for all other metals.',\n",
       "       'Manufacture of ceramic products by firing, in particular roofing tiles, bricks, refractory bricks, tiles, stoneware or porcelain with a production capacity exceeding 75 tonnes per day and/or with a kiln capacity exceeding 4 m3 and with a setting density per kiln exceeding 300 kg/m3',\n",
       "       'Recovery, or a mix of recovery and disposal, of non-hazardous waste with a capacity exceeding 75 tonnes per day involving biological treatment, excluding activities covered by Directive 91/271/EEC',\n",
       "       'Production in industrial installations of paper or card board with a production capacity exceeding 20 tonnes per day',\n",
       "       'Production of pig iron or steel (primary or secondary fusion) including continuous casting, with a capacity exceeding 2.5 tonnes per hour',\n",
       "       'Processing of ferrous metals: application of protective fused metal coats with an input exceeding 2 tonnes of crude steel per hour.',\n",
       "       'Production of inorganic chemicals: non-metals, metal oxides or other inorganic compounds such as calcium carbide, silicon, silicon carbide',\n",
       "       'Production of inorganic chemicals: acids, such as chromic acid, hydrofluoric acid, phosphoric acid, nitric acid, hydrochloric acid, sulphuric acid, oleum, sulphurous acids',\n",
       "       'Production of phosphorous, nitrogen or potassium based fertilisers (simple or compound fertilisers)',\n",
       "       'Production of cement clinker in rotary kilns with a production capacity exceeding 500 tonnes per day or in other kilns with a production capacity exceeding 50 tonnes per day',\n",
       "       'Disposal or recovery of hazardous waste with a capacity exceeding 10 tonnes per day involving blending or mixing prior to submission to any of the other activities listed in points 5.1 and 5.2',\n",
       "       'Production of organic chemicals: organometallic compounds',\n",
       "       'Production in industrial installations of pulp from timber or other fibrous materials',\n",
       "       'Recovery, or a mix of recovery and disposal, of non-hazardous waste with a capacity exceeding 75 tonnes per day involving one or more of the following activities, and excluding activities covered by Directive 91/271/EEC.',\n",
       "       'Production of plant protection products or of biocides',\n",
       "       'Disposal or recovery of hazardous waste with a capacity exceeding 10 tonnes per day involving one or more of the following activities.',\n",
       "       'Disposal or recovery of hazardous waste with a capacity exceeding 10 tonnes per day involving oil re-refining or other reuses of oil',\n",
       "       'Production in industrial installations with a production capacity exceeding 600 m3 per day of one or more of the following wood-based panels: oriented strand board, particleboard or fibreboard',\n",
       "       'Disposal or recovery of hazardous waste with a capacity exceeding 10 tonnes per day involving solvent reclamation/regeneration',\n",
       "       'Pre-treatment (operations such as washing, bleaching, mercerisation) or dyeing of textile fibres or textiles where the treatment capacity exceeds 10 tonnes per day',\n",
       "       'Processing of ferrous metals: operation of hot-rolling mills with a capacity exceeding 20 tonnes of crude steel per hour',\n",
       "       'Disposal of non-hazardous waste with a capacity exceeding 50 tonnes per day involving physico-chemical treatment ,excluding activities covered by Council Directive 91/271/EEC of 21 May 1991 concerning urban waste-water treatment',\n",
       "       'Melting mineral substances including the production of mineral fibres with a melting capacity exceeding 20 tonnes per day',\n",
       "       'Operation of ferrous metal foundries with a production capacity exceeding 20 tonnes per day',\n",
       "       'Production of organic chemicals: nitrogenous hydrocarbons such as amines, amides, nitrous compounds, nitro compounds or nitrate compounds, nitriles, cyanates, isocyanates',\n",
       "       'Disposal or recovery of hazardous waste with a capacity exceeding 10 tonnes per day involving recycling/reclamation of inorganic materials other than metals or metal compounds',\n",
       "       'Disposal of non-hazardous waste with a capacity exceeding 50 tonnes per day involving the treatment of slags and ashes, excluding activities covered by Council Directive 91/271/EEC of 21 May 1991 concerning urban waste-water treatment',\n",
       "       'Production of carbon (hard-burnt coal) or electrographite by means of incineration or graphitisation',\n",
       "       'Disposal of non-hazardous waste with a capacity exceeding 50 tonnes per day involving  treatment in shredders of metal waste, including waste electrical and electronic equipment and end-of-life vehicles and their components , and excluding activities covered by Council Directive 91/271/EEC of 21 May 1991 concerning urban waste-water treatment',\n",
       "       'Production of inorganic chemicals: bases, such as ammonium hydroxide, potassium hydroxide, sodium hydroxide',\n",
       "       'Processing of ferrous metals: operation of smitheries with hammers the energy of which exceeds 50 kilojoule per hammer, where the calorific power used exceeds 20 MW',\n",
       "       'Production of magnesium oxide in kilns with a production capacity exceeding 50 tonnes per day',\n",
       "       'Disposal of non-hazardous waste with a capacity exceeding 50 tonnes per day involving one or more of the following activities.',\n",
       "       'Disposal of non-hazardous waste with a capacity exceeding 50 tonnes per day involving the pre-treatment of waste for incineration or co-incineration, excluding activities covered by Council Directive 91/271/EEC of 21 May 1991 concerning urban waste-water treatment',\n",
       "       'Production of organic chemicals: dyes and pigments',\n",
       "       'Disposal of non-hazardous waste with a capacity exceeding 50 tonnes per day involving biological treatment, excluding activities covered by Council Directive 91/271/EEC of 21 May 1991 concerning urban waste-water treatment',\n",
       "       'Disposal or recovery of hazardous waste with a capacity exceeding 10 tonnes per day involving repackaging prior to submission to any of the other activities listed in points 5.1 and 5.2',\n",
       "       'Production of organic chemicals: synthetic rubbers',\n",
       "       'Disposal or recovery of hazardous waste with a capacity exceeding 10 tonnes per day involving the regeneration of acids or bases',\n",
       "       'Recovery, or a mix of recovery and disposal, of non-hazardous waste with a capacity exceeding 75 tonnes per day involving the  treatment of slags and ashes, excluding activities covered by Directive 91/271/EEC',\n",
       "       'Production of explosives',\n",
       "       'Tanning of hides and skins where the treatment capacity exceeds 12 tonnes of finished products per day',\n",
       "       'Underground storage of hazardous waste with a total capacity exceeding 50 tonnes',\n",
       "       'Gasification or liquefaction of coal',\n",
       "       'Independently operated treatment of waste water not covered by Directive 91/271/EEC and discharged by an installation covered by Chapter II of Directive 2010/75/EU',\n",
       "       'Metal ore (including sulphide ore) roasting or sintering',\n",
       "       'Gasification or liquefaction of fuels other than coal, in installations with a total rated thermal input of 20 MW or more',\n",
       "       'Production of organic chemicals: halogenic hydrocarbons',\n",
       "       'Production of organic chemicals: sulphurous hydrocarbons',\n",
       "       'Production of organic chemicals: phosphorus-containing hydrocarbons',\n",
       "       'Production of coke',\n",
       "       'Disposal or recovery of hazardous waste with a capacity exceeding 10 tonnes per day involving the recovery of components used for pollution abatement',\n",
       "       None,\n",
       "       'Disposal or recovery of hazardous waste with a capacity exceeding 10 tonnes per day involving the recovery of components from catalysts',\n",
       "       'Capture of CO2 streams from installations covered by Directive 2010/75/EU for the purposes of geological storage pursuant to Directive 2009/31/EC',\n",
       "       'Disposal or recovery of hazardous waste with a capacity exceeding 10 tonnes per day involving surface impoundment'],\n",
       "      dtype=object)"
      ]
     },
     "execution_count": 36,
     "metadata": {},
     "output_type": "execute_result"
    }
   ],
   "source": [
    "gdf_EPRTR.IEDActivityName.unique()"
   ]
  },
  {
   "cell_type": "code",
   "execution_count": null,
   "id": "2b54b6b9-cde0-421d-bd30-9acd2a89299c",
   "metadata": {},
   "outputs": [],
   "source": []
  }
 ],
 "metadata": {
  "kernelspec": {
   "display_name": "Python 3 (ipykernel)",
   "language": "python",
   "name": "python3"
  },
  "language_info": {
   "codemirror_mode": {
    "name": "ipython",
    "version": 3
   },
   "file_extension": ".py",
   "mimetype": "text/x-python",
   "name": "python",
   "nbconvert_exporter": "python",
   "pygments_lexer": "ipython3",
   "version": "3.10.9"
  }
 },
 "nbformat": 4,
 "nbformat_minor": 5
}

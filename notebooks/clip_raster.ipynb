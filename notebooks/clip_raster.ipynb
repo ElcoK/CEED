{
 "cells": [
  {
   "cell_type": "code",
   "execution_count": 3,
   "id": "ec529116-fe87-430f-a4fe-1d87053a0214",
   "metadata": {},
   "outputs": [],
   "source": [
    "import os,sys\n",
    "os.environ['USE_PYGEOS'] = '0'\n",
    "import geopandas as gpd\n",
    "import shapely\n",
    "import pandas as pd\n",
    "import xarray as xr\n",
    "import dask_geopandas\n",
    "from tqdm import tqdm\n",
    "sys.path.append('c://projects//osm-flex/src') \n",
    "\n",
    "import osm_flex.download as dl\n",
    "import osm_flex.extract as ex\n",
    "import osm_flex.config\n",
    "import osm_flex.clip as cp\n",
    "\n",
    "import rasterio\n",
    "from rasterio.enums import Resampling\n",
    "\n",
    "from rasterstats import point_query"
   ]
  },
  {
   "cell_type": "code",
   "execution_count": 4,
   "id": "956b5556-dd46-409f-91eb-073c5ad94b7f",
   "metadata": {},
   "outputs": [],
   "source": [
    "data_path = 'c://data//CEED'\n",
    "input_data = os.path.join(data_path,'input_data')\n",
    "bucco_path = os.path.join(data_path,'..','EUBUCCO')\n",
    "osm_path = os.path.join(data_path,'..','CIS_EU')"
   ]
  },
  {
   "cell_type": "code",
   "execution_count": 5,
   "id": "661f0d12-2150-416a-918f-79dd236d874b",
   "metadata": {},
   "outputs": [],
   "source": [
    "mask_filename = 'mask_europe.tif'\n",
    "mask_merit = xr.open_dataset(os.path.join(input_data,mask_filename))"
   ]
  },
  {
   "cell_type": "code",
   "execution_count": 14,
   "id": "9eb46de0-8190-4a0e-bbaa-74fa7ca52056",
   "metadata": {},
   "outputs": [],
   "source": [
    "def resample_raster(input_file, output_file, resample_factor,resampling_method='bilinear'):\n",
    "    \"\"\"\n",
    "    Resample a raster image.\n",
    "\n",
    "    Args:\n",
    "        input_file (str): Path to the input raster file.\n",
    "        output_file (str): Path to the output resampled raster file.\n",
    "        resample_factor (float): Resampling factor.\n",
    "\n",
    "    Returns:\n",
    "        None\n",
    "    \"\"\"\n",
    "\n",
    "    with rasterio.open(input_file) as dataset:\n",
    "        # Resample data to target shape\n",
    "        data = dataset.read(\n",
    "            out_shape=(\n",
    "                dataset.count,\n",
    "                int(dataset.height * resample_factor),\n",
    "                int(dataset.width * resample_factor)\n",
    "            ),\n",
    "            resampling=Resampling[resampling_method]\n",
    "        )\n",
    "\n",
    "        # Scale image transform\n",
    "        transform = dataset.transform * dataset.transform.scale(\n",
    "            (dataset.width / data.shape[-1]),\n",
    "            (dataset.height / data.shape[-2])\n",
    "        )\n",
    "\n",
    "    # Extract the first channel of the resampled data\n",
    "    Z = data[0, :, :]\n",
    "\n",
    "    with rasterio.open(output_file,\n",
    "        'w',\n",
    "        driver='GTiff',\n",
    "        height=Z.shape[0],\n",
    "        width=Z.shape[1],\n",
    "        count=1,\n",
    "        dtype=data.dtype,\n",
    "        compress='LZW', \n",
    "        transform=transform,\n",
    "        ) as dst:\n",
    "                # Write the resampled data to the output file\n",
    "                dst.write(Z, 1)\n",
    "                \n",
    "def raster_to_vector(xr_raster):\n",
    "    \"\"\"\n",
    "    Convert a raster to a vector representation.\n",
    "\n",
    "    Args:\n",
    "        xr_raster (xarray.DataArray): Input raster data as xarray.DataArray.\n",
    "\n",
    "    Returns:\n",
    "        gpd.GeoDataFrame: Vector representation of the input raster.\n",
    "    \"\"\"\n",
    "\n",
    "    # Convert xarray raster to pandas DataFrame\n",
    "    df = xr_raster.to_dataframe()\n",
    "\n",
    "    # Filter DataFrame to select rows where band_data is 1\n",
    "    df_1 = df.loc[df.band_data == 1].reset_index()\n",
    "\n",
    "    # Create a Shapely Point geometry column from x and y values\n",
    "    df_1['geometry'] = shapely.points(df_1.x.values, df_1.y.values)\n",
    "\n",
    "    # Remove unnecessary columns from the DataFrame\n",
    "    df_1 = df_1.drop(['x', 'y', 'band', 'spatial_ref'], axis=1)\n",
    "\n",
    "    # Calculate the resolution of the raster\n",
    "    resolution = xr_raster.x[1].values - xr_raster.x[0].values\n",
    "\n",
    "    # Buffer the Point geometries by half of the resolution with square caps\n",
    "    df_1.geometry = shapely.buffer(df_1.geometry, distance=resolution/2, cap_style='square').values\n",
    "\n",
    "    # Convert the DataFrame to a GeoDataFrame\n",
    "    return gpd.GeoDataFrame(df_1)             "
   ]
  },
  {
   "cell_type": "code",
   "execution_count": 15,
   "id": "f12b9301-f69a-457c-9cdf-44a2240e0644",
   "metadata": {},
   "outputs": [
    {
     "name": "stdout",
     "output_type": "stream",
     "text": [
      "CPU times: total: 1min 7s\n",
      "Wall time: 1min 7s\n"
     ]
    }
   ],
   "source": [
    "%%time\n",
    "input_file = os.path.join(input_data,mask_filename)\n",
    "output_file = os.path.join(input_data,'mask_europe_00083.tif')\n",
    "resample_factor = 0.1\n",
    "\n",
    "resample_raster(input_file,output_file,resample_factor)"
   ]
  },
  {
   "cell_type": "code",
   "execution_count": 16,
   "id": "d70986ae-c628-4394-85e7-fb6d2e7a2925",
   "metadata": {},
   "outputs": [],
   "source": [
    "%%time\n",
    "mask_eu = xr.open_dataset(os.path.join(input_data,output_file))\n",
    "vector_mask = raster_to_vector(mask_merit)\n",
    "vector_mask = vector_mask.set_crs(4326)\n",
    "vector_mask = vector_mask.to_crs(3035)"
   ]
  },
  {
   "cell_type": "code",
   "execution_count": 61,
   "id": "b1348a67-45a4-437f-a751-e283b2359e65",
   "metadata": {},
   "outputs": [],
   "source": [
    "tree = shapely.STRtree(vector_mask.geometry.values)"
   ]
  },
  {
   "cell_type": "code",
   "execution_count": 74,
   "id": "ccda2cd8-ffdd-4168-8f9a-5d9695e538f2",
   "metadata": {},
   "outputs": [
    {
     "name": "stderr",
     "output_type": "stream",
     "text": [
      "100%|███████████████████████████████████████████████████████████████████████████████| 19/19 [1:24:38<00:00, 267.30s/it]"
     ]
    },
    {
     "name": "stdout",
     "output_type": "stream",
     "text": [
      "CPU times: total: 1h 2min\n",
      "Wall time: 1h 24min 38s\n"
     ]
    },
    {
     "name": "stderr",
     "output_type": "stream",
     "text": [
      "\n"
     ]
    }
   ],
   "source": [
    "%%time\n",
    "\n",
    "country_codes = [x.split('_')[0] for x in os.listdir(bucco_path) if x.endswith('.parquet')]\n",
    "\n",
    "for country_code in tqdm(country_codes,total=len(country_codes)):\n",
    "    file_path = os.path.join(bucco_path,'{}_bucco.parquet'.format(country_code))\n",
    "    out_path = os.path.join(input_data,'..','coastal_bucco_exact','{}_bucco.parquet').format(country_code)\n",
    "    if os.path.exists(out_path):\n",
    "        continue\n",
    "    else:\n",
    "        bucco = gpd.read_parquet(file_path)\n",
    "        \n",
    "        coastal_overlay = tree.query(bucco.geometry.values,predicate='intersects')\n",
    "        coastal_bucco = bucco.iloc[coastal_overlay[0]].reset_index(drop=True)\n",
    "        coastal_bucco.to_parquet(out_path)"
   ]
  },
  {
   "cell_type": "code",
   "execution_count": 76,
   "id": "c6e48a1e-8797-4e6e-9d47-ce10e0b3f5c5",
   "metadata": {},
   "outputs": [
    {
     "name": "stderr",
     "output_type": "stream",
     "text": [
      "100%|█████████████████████████████████████████████████████████████████████████████████| 25/25 [00:00<00:00, 925.91it/s]"
     ]
    },
    {
     "name": "stdout",
     "output_type": "stream",
     "text": [
      "CPU times: total: 21.9 s\n",
      "Wall time: 22 s\n"
     ]
    },
    {
     "name": "stderr",
     "output_type": "stream",
     "text": [
      "\n"
     ]
    }
   ],
   "source": [
    "%%time\n",
    "\n",
    "country_codes = [x.split('_')[0] for x in os.listdir(osm_path) if x.endswith('.parquet')]\n",
    "\n",
    "vector_mask = raster_to_vector(mask_merit)\n",
    "vector_mask = vector_mask.set_crs(4326)\n",
    "tree = shapely.STRtree(vector_mask.geometry.values)\n",
    "\n",
    "for country_code in tqdm(country_codes,total=len(country_codes)):\n",
    "    file_path = os.path.join(osm_path,'{}_cis.parquet'.format(country_code))\n",
    "    out_path = os.path.join(input_data,'..','coastal_osm_exact','{}_cis.parquet').format(country_code)\n",
    "    if os.path.exists(out_path):\n",
    "        continue\n",
    "    else:\n",
    "        osm = gpd.read_parquet(file_path)\n",
    "        collect_all = {}\n",
    "        for infra in osm.groupby(level=0):\n",
    "            uniq_infra = infra[1].reset_index(drop=True)\n",
    "            \n",
    "            coastal_overlay = tree.query(uniq_infra.geometry.values,predicate='intersects')\n",
    "            collect_all[infra[0]] = uniq_infra.iloc[coastal_overlay[0]].reset_index(drop=True)\n",
    "        \n",
    "        gpd.GeoDataFrame(pd.concat(collect_all)).to_parquet(out_path)"
   ]
  },
  {
   "cell_type": "code",
   "execution_count": null,
   "id": "96a179fe-9d72-42e8-9cc3-1dcb23c128d8",
   "metadata": {},
   "outputs": [],
   "source": []
  },
  {
   "cell_type": "code",
   "execution_count": null,
   "id": "a310d4fe-1c91-45da-963d-507c19fd6088",
   "metadata": {},
   "outputs": [],
   "source": []
  }
 ],
 "metadata": {
  "kernelspec": {
   "display_name": "Python 3 (ipykernel)",
   "language": "python",
   "name": "python3"
  },
  "language_info": {
   "codemirror_mode": {
    "name": "ipython",
    "version": 3
   },
   "file_extension": ".py",
   "mimetype": "text/x-python",
   "name": "python",
   "nbconvert_exporter": "python",
   "pygments_lexer": "ipython3",
   "version": "3.10.9"
  }
 },
 "nbformat": 4,
 "nbformat_minor": 5
}
